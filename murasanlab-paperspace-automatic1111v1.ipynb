{
 "cells": [
  {
   "cell_type": "code",
   "execution_count": null,
   "metadata": {},
   "outputs": [],
   "source": [
    "#AUTOMATIC1111のダウンロード\n",
    "%cd /notebooks\n",
    "!git clone https://github.com/AUTOMATIC1111/stable-diffusion-webui\n",
    "%cd /notebooks/stable-diffusion-webui"
   ]
  },
  {
   "cell_type": "code",
   "execution_count": null,
   "metadata": {},
   "outputs": [],
   "source": [
    "#AUTOMATIC1111アップデート（アップデートが必要な時のみ実行）\n",
    "%cd /notebooks/stable-diffusion-webui\n",
    "!git checkout master\n",
    "!git pull"
   ]
  },
  {
   "cell_type": "code",
   "execution_count": null,
   "metadata": {},
   "outputs": [],
   "source": [
    "#モデルのダウンロード（ここにダウンロードしたいモデルを追加）\n",
    "%cd /notebooks/stable-diffusion-webui/models/Stable-diffusion\n",
    "!wget https://huggingface.co/Vsukiyaki/SukiyakiMix-v1.0/resolve/main/SukiyakiMix-v1.0-fp16.safetensors\n",
    "\n",
    "#VAEのダウンロード（ここにダウンロードしたいVAEを追加）\n",
    "%cd /notebooks/stable-diffusion-webui/models/VAE/\n",
    "!wget https://huggingface.co/WarriorMama777/OrangeMixs/resolve/main/VAEs/orangemix.vae.pt\n",
    "\n",
    "%cd /notebooks/stable-diffusion-webui"
   ]
  },
  {
   "cell_type": "code",
   "execution_count": null,
   "metadata": {},
   "outputs": [],
   "source": [
    "#WebUI起動（ユーザー名:me, パスワード:qwerty）\n",
    "%cd /notebooks/stable-diffusion-webui\n",
    "!python launch.py --share  --gradio-auth me:qwerty"
   ]
  }
 ],
 "metadata": {
  "language_info": {
   "name": "python"
  },
  "orig_nbformat": 4
 },
 "nbformat": 4,
 "nbformat_minor": 2
}
